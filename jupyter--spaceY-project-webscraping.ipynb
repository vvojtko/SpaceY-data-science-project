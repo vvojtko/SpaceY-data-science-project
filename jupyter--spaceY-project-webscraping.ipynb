{
    "cells": [
        {
            "cell_type": "markdown",
            "metadata": {},
            "source": "# **Space X  Falcon 9 First Stage Landing Prediction**\n"
        },
        {
            "cell_type": "markdown",
            "metadata": {},
            "source": "## Web scraping Falcon 9 and Falcon Heavy Launches Records from Wikipedia\n"
        },
        {
            "cell_type": "markdown",
            "metadata": {},
            "source": "Performing web scraping to collect Falcon 9 historical launch records from a Wikipedia page titled `List of Falcon 9 and Falcon Heavy launches`\n\n[https://en.wikipedia.org/wiki/List_of_Falcon\\_9\\_and_Falcon_Heavy_launches](https://en.wikipedia.org/wiki/List_of_Falcon\\_9\\_and_Falcon_Heavy_launches?utm_medium=Exinfluencer&utm_source=Exinfluencer&utm_content=000026UJ&utm_term=10006555&utm_id=NA-SkillsNetwork-Channel-SkillsNetworkCoursesIBMDS0321ENSkillsNetwork26802033-2021-01-01)\n"
        },
        {
            "cell_type": "markdown",
            "metadata": {},
            "source": "![](https://cf-courses-data.s3.us.cloud-object-storage.appdomain.cloud/IBM-DS0321EN-SkillsNetwork/labs/module\\_1\\_L2/images/Falcon9\\_rocket_family.svg)\n"
        },
        {
            "cell_type": "markdown",
            "metadata": {},
            "source": "Falcon 9 first stage will land successfully\n"
        },
        {
            "cell_type": "markdown",
            "metadata": {},
            "source": "![](https://cf-courses-data.s3.us.cloud-object-storage.appdomain.cloud/IBMDeveloperSkillsNetwork-DS0701EN-SkillsNetwork/api/Images/landing\\_1.gif)\n"
        },
        {
            "cell_type": "markdown",
            "metadata": {},
            "source": "Several examples of an unsuccessful landing are shown here:\n"
        },
        {
            "cell_type": "markdown",
            "metadata": {},
            "source": "![](https://cf-courses-data.s3.us.cloud-object-storage.appdomain.cloud/IBMDeveloperSkillsNetwork-DS0701EN-SkillsNetwork/api/Images/crash.gif)\n"
        },
        {
            "cell_type": "markdown",
            "metadata": {},
            "source": "More specifically, the launch records are stored in a HTML table shown below:\n"
        },
        {
            "cell_type": "markdown",
            "metadata": {},
            "source": "![](https://cf-courses-data.s3.us.cloud-object-storage.appdomain.cloud/IBM-DS0321EN-SkillsNetwork/labs/module\\_1\\_L2/images/falcon9-launches-wiki.png)\n"
        },
        {
            "cell_type": "markdown",
            "metadata": {},
            "source": "import required packages\n"
        },
        {
            "cell_type": "code",
            "execution_count": null,
            "metadata": {},
            "outputs": [],
            "source": "!pip3 install beautifulsoup4\n!pip3 install requests"
        },
        {
            "cell_type": "code",
            "execution_count": 18,
            "metadata": {},
            "outputs": [],
            "source": "import sys\n\nimport requests\nfrom bs4 import BeautifulSoup\nimport re\nimport unicodedata\nimport pandas as pd"
        },
        {
            "cell_type": "markdown",
            "metadata": {},
            "source": "helper functions to process web scraped HTML table\n"
        },
        {
            "cell_type": "code",
            "execution_count": 19,
            "metadata": {},
            "outputs": [],
            "source": "def date_time(table_cells):\n    \"\"\"\n    This function returns the data and time from the HTML  table cell\n    Input: the  element of a table data cell extracts extra row\n    \"\"\"\n    return [data_time.strip() for data_time in list(table_cells.strings)][0:2]\n\ndef booster_version(table_cells):\n    \"\"\"\n    This function returns the booster version from the HTML  table cell \n    Input: the  element of a table data cell extracts extra row\n    \"\"\"\n    out=''.join([booster_version for i,booster_version in enumerate( table_cells.strings) if i%2==0][0:-1])\n    return out\n\ndef landing_status(table_cells):\n    \"\"\"\n    This function returns the landing status from the HTML table cell \n    Input: the  element of a table data cell extracts extra row\n    \"\"\"\n    out=[i for i in table_cells.strings][0]\n    return out\n\n\ndef get_mass(table_cells):\n    mass=unicodedata.normalize(\"NFKD\", table_cells.text).strip()\n    if mass:\n        mass.find(\"kg\")\n        new_mass=mass[0:mass.find(\"kg\")+2]\n    else:\n        new_mass=0\n    return new_mass\n\n\ndef extract_column_from_header(row):\n    \"\"\"\n    This function returns the landing status from the HTML table cell \n    Input: the  element of a table data cell extracts extra row\n    \"\"\"\n    if (row.br):\n        row.br.extract()\n    if row.a:\n        row.a.extract()\n    if row.sup:\n        row.sup.extract()\n        \n    colunm_name = ' '.join(row.contents)\n    \n    # Filter the digit and empty names\n    if not(colunm_name.strip().isdigit()):\n        colunm_name = colunm_name.strip()\n        return colunm_name    \n"
        },
        {
            "cell_type": "markdown",
            "metadata": {},
            "source": "scraping the data from a snapshot of the  `List of Falcon 9 and Falcon Heavy launches` Wikipage updated on\n`9th June 2021`\n"
        },
        {
            "cell_type": "code",
            "execution_count": 20,
            "metadata": {},
            "outputs": [],
            "source": "static_url = \"https://en.wikipedia.org/w/index.php?title=List_of_Falcon_9_and_Falcon_Heavy_launches&oldid=1027686922\""
        },
        {
            "cell_type": "markdown",
            "metadata": {},
            "source": "### TASK 1: Requesting the Falcon9 Launch Wiki page from its URL\n"
        },
        {
            "cell_type": "code",
            "execution_count": 21,
            "metadata": {},
            "outputs": [],
            "source": "# requests.get() method with the provided static_url\n# assign the response to a object\ndata = requests.get(static_url).text"
        },
        {
            "cell_type": "code",
            "execution_count": 22,
            "metadata": {},
            "outputs": [],
            "source": "# BeautifulSoup() to create a BeautifulSoup object from a response text content\nsoup = BeautifulSoup(data, 'html5lib')"
        },
        {
            "cell_type": "code",
            "execution_count": 23,
            "metadata": {},
            "outputs": [
                {
                    "data": {
                        "text/plain": "<title>List of Falcon 9 and Falcon Heavy launches - Wikipedia</title>"
                    },
                    "execution_count": 23,
                    "metadata": {},
                    "output_type": "execute_result"
                }
            ],
            "source": "# soup.title attribute\nsoup.title"
        },
        {
            "cell_type": "markdown",
            "metadata": {},
            "source": "### TASK 2: Extracting all column/variable names from the HTML table header\n"
        },
        {
            "cell_type": "markdown",
            "metadata": {},
            "source": "find all tables on the wiki page first"
        },
        {
            "cell_type": "code",
            "execution_count": 24,
            "metadata": {},
            "outputs": [],
            "source": "# find_all function in the BeautifulSoup object, with element type `table`\n# Assign the result to a list called `html_tables`\nhtml_tables = soup.find_all(\"tr\")\n"
        },
        {
            "cell_type": "code",
            "execution_count": 25,
            "metadata": {},
            "outputs": [],
            "source": "first_launch_table = []"
        },
        {
            "cell_type": "markdown",
            "metadata": {},
            "source": "Starting from the third table is our target table contains the actual launch records.\n"
        },
        {
            "cell_type": "code",
            "execution_count": 26,
            "metadata": {},
            "outputs": [
                {
                    "name": "stdout",
                    "output_type": "stream",
                    "text": "<tr>\n<th scope=\"col\">Flight No.\n</th>\n<th scope=\"col\">Date and<br/>time (<a href=\"/wiki/Coordinated_Universal_Time\" title=\"Coordinated Universal Time\">UTC</a>)\n</th>\n<th scope=\"col\"><a href=\"/wiki/List_of_Falcon_9_first-stage_boosters\" title=\"List of Falcon 9 first-stage boosters\">Version,<br/>Booster</a> <sup class=\"reference\" id=\"cite_ref-booster_11-0\"><a href=\"#cite_note-booster-11\">[b]</a></sup>\n</th>\n<th scope=\"col\">Launch site\n</th>\n<th scope=\"col\">Payload<sup class=\"reference\" id=\"cite_ref-Dragon_12-0\"><a href=\"#cite_note-Dragon-12\">[c]</a></sup>\n</th>\n<th scope=\"col\">Payload mass\n</th>\n<th scope=\"col\">Orbit\n</th>\n<th scope=\"col\">Customer\n</th>\n<th scope=\"col\">Launch<br/>outcome\n</th>\n<th scope=\"col\"><a href=\"/wiki/Falcon_9_first-stage_landing_tests\" title=\"Falcon 9 first-stage landing tests\">Booster<br/>landing</a>\n</th></tr>\n"
                }
            ],
            "source": "# Let's print the third table and check its content\nfirst_launch_table = html_tables[2]\nprint(first_launch_table)"
        },
        {
            "cell_type": "markdown",
            "metadata": {},
            "source": "should able to see the columns names embedded in the table header elements `<th>` as follows:\n"
        },
        {
            "cell_type": "markdown",
            "metadata": {},
            "source": "```\n<tr>\n<th scope=\"col\">Flight No.\n</th>\n<th scope=\"col\">Date and<br/>time (<a href=\"/wiki/Coordinated_Universal_Time\" title=\"Coordinated Universal Time\">UTC</a>)\n</th>\n<th scope=\"col\"><a href=\"/wiki/List_of_Falcon_9_first-stage_boosters\" title=\"List of Falcon 9 first-stage boosters\">Version,<br/>Booster</a> <sup class=\"reference\" id=\"cite_ref-booster_11-0\"><a href=\"#cite_note-booster-11\">[b]</a></sup>\n</th>\n<th scope=\"col\">Launch site\n</th>\n<th scope=\"col\">Payload<sup class=\"reference\" id=\"cite_ref-Dragon_12-0\"><a href=\"#cite_note-Dragon-12\">[c]</a></sup>\n</th>\n<th scope=\"col\">Payload mass\n</th>\n<th scope=\"col\">Orbit\n</th>\n<th scope=\"col\">Customer\n</th>\n<th scope=\"col\">Launch<br/>outcome\n</th>\n<th scope=\"col\"><a href=\"/wiki/Falcon_9_first-stage_landing_tests\" title=\"Falcon 9 first-stage landing tests\">Booster<br/>landing</a>\n</th></tr>\n```\n"
        },
        {
            "cell_type": "code",
            "execution_count": 27,
            "metadata": {},
            "outputs": [
                {
                    "name": "stdout",
                    "output_type": "stream",
                    "text": "[<th scope=\"col\">Flight No.\n</th>, <th scope=\"col\">Date and<br/>time (<a href=\"/wiki/Coordinated_Universal_Time\" title=\"Coordinated Universal Time\">UTC</a>)\n</th>, <th scope=\"col\"><a href=\"/wiki/List_of_Falcon_9_first-stage_boosters\" title=\"List of Falcon 9 first-stage boosters\">Version,<br/>Booster</a> <sup class=\"reference\" id=\"cite_ref-booster_11-0\"><a href=\"#cite_note-booster-11\">[b]</a></sup>\n</th>, <th scope=\"col\">Launch site\n</th>, <th scope=\"col\">Payload<sup class=\"reference\" id=\"cite_ref-Dragon_12-0\"><a href=\"#cite_note-Dragon-12\">[c]</a></sup>\n</th>, <th scope=\"col\">Payload mass\n</th>, <th scope=\"col\">Orbit\n</th>, <th scope=\"col\">Customer\n</th>, <th scope=\"col\">Launch<br/>outcome\n</th>, <th scope=\"col\"><a href=\"/wiki/Falcon_9_first-stage_landing_tests\" title=\"Falcon 9 first-stage landing tests\">Booster<br/>landing</a>\n</th>]\n"
                }
            ],
            "source": "print(first_launch_table.find_all(\"th\"))"
        },
        {
            "cell_type": "markdown",
            "metadata": {},
            "source": "need to iterate through the `<th>` elements and apply the provided `extract_column_from_header()` to extract column name one by one\n"
        },
        {
            "cell_type": "code",
            "execution_count": 28,
            "metadata": {},
            "outputs": [],
            "source": "column_names = []\nfor row in first_launch_table.find_all(\"th\"):\n    name = extract_column_from_header(row)\n    if((name != None) and (len(name)) > 0):\n        column_names.append(extract_column_from_header(row))\n# Applying find_all() function with `th` element on first_launch_table\n# Iterating each th element and apply the provided extract_column_from_header() to get a column name\n# Appending the Non-empty column name (`if name is not None and len(name) > 0`) into a list called column_names\n"
        },
        {
            "cell_type": "markdown",
            "metadata": {},
            "source": "Checking the extracted column names\n"
        },
        {
            "cell_type": "code",
            "execution_count": 29,
            "metadata": {},
            "outputs": [
                {
                    "name": "stdout",
                    "output_type": "stream",
                    "text": "['Flight No.', 'Date and time ( )', 'Launch site', 'Payload', 'Payload mass', 'Orbit', 'Customer', 'Launch outcome']\n"
                }
            ],
            "source": "print(column_names)"
        },
        {
            "cell_type": "markdown",
            "metadata": {},
            "source": "## TASK 3: Creating a data frame by parsing the launch HTML tables\n"
        },
        {
            "cell_type": "markdown",
            "metadata": {},
            "source": "Creating an empty dictionary with keys from the extracted column names in the previous task. Later, this dictionary will be converted into a Pandas dataframe\n"
        },
        {
            "cell_type": "code",
            "execution_count": 30,
            "metadata": {},
            "outputs": [],
            "source": "launch_dict= dict.fromkeys(column_names)\n# Remove an irrelvant column\ndel launch_dict['Date and time ( )']\n# Let's initial the launch_dict with each value to be an empty list\nlaunch_dict['Flight No.'] = []\nlaunch_dict['Launch site'] = []\nlaunch_dict['Payload'] = []\nlaunch_dict['Payload mass'] = []\nlaunch_dict['Orbit'] = []\nlaunch_dict['Customer'] = []\nlaunch_dict['Launch outcome'] = []\n# Added some new columns\nlaunch_dict['Version Booster']=[]\nlaunch_dict['Booster landing']=[]\nlaunch_dict['Date']=[]\nlaunch_dict['Time']=[]"
        },
        {
            "cell_type": "markdown",
            "metadata": {},
            "source": "need to fill up the `launch_dict` with launch records extracted from table rows.\n"
        },
        {
            "cell_type": "markdown",
            "metadata": {},
            "source": "Usually, HTML tables in Wiki pages are likely to contain unexpected annotations and other types of noises, such as reference links `B0004.1[8]`, missing values `N/A [e]`, inconsistent formatting, etc.\n"
        },
        {
            "cell_type": "code",
            "execution_count": 31,
            "metadata": {},
            "outputs": [],
            "source": "import numpy as np"
        },
        {
            "cell_type": "code",
            "execution_count": 32,
            "metadata": {},
            "outputs": [],
            "source": "#df2 = pd.DataFrame(columns=['Flight No.','Date','Time','Version Booster','Launch_site','PayLoad','Payload mass','Orbit','Customer','Launch outcome','Booster landing'])\ndf3 = pd.DataFrame()"
        },
        {
            "cell_type": "code",
            "execution_count": 33,
            "metadata": {},
            "outputs": [
                {
                    "data": {
                        "text/html": "<div>\n<style scoped>\n    .dataframe tbody tr th:only-of-type {\n        vertical-align: middle;\n    }\n\n    .dataframe tbody tr th {\n        vertical-align: top;\n    }\n\n    .dataframe thead th {\n        text-align: right;\n    }\n</style>\n<table border=\"1\" class=\"dataframe\">\n  <thead>\n    <tr style=\"text-align: right;\">\n      <th></th>\n    </tr>\n  </thead>\n  <tbody>\n  </tbody>\n</table>\n</div>",
                        "text/plain": "Empty DataFrame\nColumns: []\nIndex: []"
                    },
                    "execution_count": 33,
                    "metadata": {},
                    "output_type": "execute_result"
                }
            ],
            "source": "df3.head()"
        },
        {
            "cell_type": "code",
            "execution_count": 35,
            "metadata": {
                "scrolled": true
            },
            "outputs": [
                {
                    "name": "stdout",
                    "output_type": "stream",
                    "text": "run  0\nsize:  None\n1\n4 June 2010\n18:45\nF9 v1.0B0003.1\nCCAFS\nDragon Spacecraft Qualification Unit\n0\nLEO\nSpaceX\nSuccess\n\nFailure\n2\n8 December 2010\n15:43\nF9 v1.0B0004.1\nCCAFS\nDragon\n0\nLEO\nNASA\nSuccess\nFailure\n3\n22 May 2012\n07:44\nF9 v1.0B0005.1\nCCAFS\nDragon\n525 kg\nLEO\nNASA\nSuccess\nNo attempt\n\n4\n8 October 2012\n00:35\nF9 v1.0B0006.1\nCCAFS\nSpaceX CRS-1\n4,700 kg\nLEO\nNASA\nSuccess\n\nNo attempt\n5\n1 March 2013\n15:10\nF9 v1.0B0007.1\nCCAFS\nSpaceX CRS-2\n4,877 kg\nLEO\nNASA\nSuccess\n\nNo attempt\n\n6\n29 September 2013\n16:00\nF9 v1.1B1003\nVAFB\nCASSIOPE\n500 kg\nPolar orbit\nMDA\nSuccess\nUncontrolled\n7\n3 December 2013\n22:41\nF9 v1.1\nCCAFS\nSES-8\n3,170 kg\nGTO\nSES\nSuccess\nNo attempt\nrun  1\nsize:  None\n8\n6 January 2014\n22:06\nF9 v1.1\nCCAFS\nThaicom 6\n3,325 kg\nGTO\nThaicom\nSuccess\nNo attempt\n9\n18 April 2014\n19:25\nF9 v1.1\nCape Canaveral\nSpaceX CRS-3\n2,296 kg\nLEO\nNASA\nSuccess\n\nControlled\n10\n14 July 2014\n15:15\nF9 v1.1\nCape Canaveral\nOrbcomm-OG2\n1,316 kg\nLEO\nOrbcomm\nSuccess\nControlled\n11\n5 August 2014\n08:00\nF9 v1.1\nCape Canaveral\nAsiaSat 8\n4,535 kg\nGTO\nAsiaSat\nSuccess\nNo attempt\n12\n7 September 2014\n05:00\nF9 v1.1\nCape Canaveral\nAsiaSat 6\n4,428 kg\nGTO\nAsiaSat\nSuccess\nNo attempt\n\n13\n21 September 2014\n05:52\nF9 v1.1\nCape Canaveral\nSpaceX CRS-4\n2,216 kg\nLEO\nNASA\nSuccess\nUncontrolled\nrun  2\nsize:  None\n14\n10 January 2015\n09:47\nF9 v1.1\nCape Canaveral\nSpaceX CRS-5\n2,395 kg\nLEO\nNASA\nSuccess\nFailure \n15\n11 February 2015\n23:03\nF9 v1.1\nCape Canaveral\nDSCOVR\n570 kg\nHEO\nUSAF\nSuccess\n\nControlled\n16\n2 March 2015\n03:50\nF9 v1.1\nCape Canaveral\nABS-3A\n4,159 kg\nGTO\nABS\nSuccess\n\nNo attempt\n17\n14 April 2015\n20:10\nF9 v1.1\nCape Canaveral\nSpaceX CRS-6\n1,898 kg\nLEO\nNASA\nSuccess\n\nFailure\n18\n27 April 2015\n23:03\nF9 v1.1\nCape Canaveral\nT\u00fcrkmen\u00c4lem 52\u00b0E / MonacoSAT\n4,707 kg\nGTO\nNone\nSuccess\n\nNo attempt\n19\n28 June 2015\n14:21\nF9 v1.1\nCape Canaveral\nSpaceX CRS-7\n1,952 kg\nLEO\nNASA\nFailure\nPrecluded\n20\n22 December 2015\n01:29\nF9 FT\nCape Canaveral\nOrbcomm-OG2\n2,034 kg\nLEO\nOrbcomm\nSuccess\n\nSuccess\nrun  3\nsize:  None\n21\n17 January 2016\n18:42\nF9 v1.1\nVAFB\nJason-3\n553 kg\nLEO\nNASA\nSuccess\n\nFailure\n22\n4 March 2016\n23:35\nF9 FT\nCape Canaveral\nSES-9\n5,271 kg\nGTO\nSES\nSuccess\n\nFailure\n23\n8 April 2016\n20:43\nF9 FT\nCape Canaveral\nSpaceX CRS-8\n3,136 kg\nLEO\nNASA\nSuccess\nSuccess\n24\n6 May 2016\n05:21\nF9 FT\nCape Canaveral\nJCSAT-14\n4,696 kg\nGTO\nSKY Perfect JSAT Group\nSuccess\n\nSuccess\n25\n27 May 2016\n21:39\nF9 FT\nCape Canaveral\nThaicom 8\n3,100 kg\nGTO\nThaicom\nSuccess\n\nSuccess\n26\n15 June 2016\n14:29\nF9 FT\nCape Canaveral\nABS-2A\n3,600 kg\nGTO\nABS\nSuccess\n\nFailure\n27\n18 July 2016\n04:45\nF9 FT\nCape Canaveral\nSpaceX CRS-9\n2,257 kg\nLEO\nNASA\nSuccess\n\nSuccess\n28\n14 August 2016\n05:26\nF9 FT\nCape Canaveral\nJCSAT-16\n4,600 kg\nGTO\nSKY Perfect JSAT Group\nSuccess\n\nSuccess\nrun  4\nsize:  None\n29\n14 January 2017\n17:54\nF9 FT\nVAFB\nIridium NEXT\n9,600 kg\nPolar\nIridium Communications\nSuccess\n\nSuccess\n30\n19 February 2017\n14:39\nF9 FT\nKSC\nSpaceX CRS-10\n2,490 kg\nLEO\nNASA\nSuccess\n\nSuccess\n31\n16 March 2017\n06:00\nF9 FT\nKSC\nEchoStar 23\n5,600 kg\nGTO\nEchoStar\nSuccess\n\nNo attempt\n32\n30 March 2017\n22:27\nF9 FT\u267a\nKSC\nSES-10\n5,300 kg\nGTO\nSES\nSuccess\nSuccess\n33\n1 May 2017\n11:15\nF9 FT\nKSC\nNROL-76\nC\nLEO\nNRO\nSuccess\n\nSuccess\n34\n15 May 2017\n23:21\nF9 FT\nKSC\nInmarsat-5 F4\n6,070 kg\nGTO\nInmarsat\nSuccess\n\nNo attempt\n35\n3 June 2017\n21:07\nF9 FT\nKSC\nSpaceX CRS-11\n2,708 kg\nLEO\nNASA\nSuccess\n\nSuccess\n36\n23 June 2017\n19:10\nF9 FTB1029.2\nKSC\nBulgariaSat-1\n3,669 kg\nGTO\nBulsatcom\nSuccess\n\nSuccess\n37\n25 June 2017\n20:25\nF9 FT\nVAFB\nIridium NEXT\n9,600 kg\nLEO\nIridium Communications\nSuccess\n\nSuccess\n38\n5 July 2017\n23:38\nF9 FT\nKSC\nIntelsat 35e\n6,761 kg\nGTO\nIntelsat\nSuccess\n\nNo attempt\n39\n14 August 2017\n16:31\nF9 B4\nKSC\nSpaceX CRS-12\n3,310 kg\nLEO\nNASA\nSuccess\n\nSuccess\n40\n24 August 2017\n18:51\nF9 FT\nVAFB\nFormosat-5\n475 kg\nSSO\nNSPO\nSuccess\n\nSuccess\n41\n7 September 2017\n14:00\nF9 B4\nKSC\nBoeing X-37B\n4,990 kg\nLEO\nUSAF\nSuccess\n\nSuccess\n42\n9 October 2017\n12:37\nF9 B4\nVAFB\nIridium NEXT\n9,600 kg\nPolar\nIridium Communications\nSuccess\n\nSuccess\n43\n11 October 2017\n22:53:00\nF9 FTB1031.2\nKSC\nSES-11\n5,200 kg\nGTO\nSES S.A.\nSuccess\n\nSuccess\n44\n30 October 2017\n19:34\nF9 B4\nKSC\nKoreasat 5A\n3,500 kg\nGTO\nKT Corporation\nSuccess\n\nSuccess\n45\n15 December 2017\n15:36\nF9 FTB1035.2\nCape Canaveral\nSpaceX CRS-13\n2,205 kg\nLEO\nNASA\nSuccess\n\nSuccess\n46\n23 December 2017\n01:27\nF9 FTB1036.2\nVAFB\nIridium NEXT\n9,600 kg\nPolar\nIridium Communications\nSuccess\nControlled\nrun  5\nsize:  None\n47\n8 January 2018\n01:00\nF9 B4\nCCAFS\nZuma\nC\nLEO\nNorthrop Grumman\nSuccess\nSuccess\n48\n31 January 2018\n21:25\nF9 FTB1032.2\nCCAFS\nGovSat-1\n4,230 kg\nGTO\nSES\nSuccess\nControlled\n49\n22 February 2018\n14:17\nF9 FTB1038.2\nVAFB\nPaz\n2,150 kg\nSSO\nHisdesat\nSuccess\nNo attempt\n50\n6 March 2018\n05:33\nF9 B4\nCCAFS\nHispasat 30W-6\n6,092 kg\nGTO\nHispasat\nSuccess\nNo attempt\n51\n30 March 2018\n14:14\nF9 B4B1041.2\nVAFB\nIridium NEXT\n9,600 kg\nPolar\nIridium Communications\nSuccess\nNo attempt\n52\n2 April 2018\n20:30\nF9 B4B1039.2\nCCAFS\nSpaceX CRS-14\n2,647 kg\nLEO\nNASA\nSuccess\nNo attempt\n53\n18 April 2018\n22:51\nF9 B4\nCCAFS\nTransiting Exoplanet Survey Satellite\n362 kg\nHEO\nNASA\nSuccess\nSuccess\n54\n11 May 2018\n20:14\nF9 B5B1046.1\nKSC\nBangabandhu-1\n3,600 kg\nGTO\nThales-Alenia\nSuccess\nSuccess\n55\n22 May 2018\n19:47\nF9 B4B1043.2\nVAFB\nIridium NEXT\n6,460 kg\nPolar\nIridium Communications\nSuccess\nNo attempt\n56\n4 June 2018\n04:45\nF9 B4B1040.2\nCCAFS\nSES-12\n5,384 kg\nGTO\nSES\nSuccess\nNo attempt\n57\n29 June 2018\n09:42\nF9 B4B1045.2\nCCAFS\nSpaceX CRS-15\n2,697 kg\nLEO\nNASA\nSuccess\nNo attempt\n58\n22 July 2018\n05:50\nF9 B5\nCCAFS\nTelstar 19V\n7,075 kg\nGTO\nTelesat\nSuccess\nSuccess\n59\n25 July 2018\n11:39\nF9 B5B1048\nVAFB\nIridium NEXT\n9,600 kg\nPolar\nIridium Communications\nSuccess\nSuccess\n60\n7 August 2018\n05:18\nF9 B5B1046.2\nCCAFS\nMerah Putih\n5,800 kg\nGTO\nTelkom Indonesia\nSuccess\nSuccess\n61\n10 September 2018\n04:45\nF9 B5\nCCAFS\nTelstar 18V\n7,060 kg\nGTO\nTelesat\nSuccess\nSuccess\n62\n8 October 2018\n02:22\nF9 B5B1048.2\nVAFB\nSAOCOM 1A\n3,000 kg\nSSO\nCONAE\nSuccess\nSuccess\n63\n15 November 2018\n20:46\nF9 B5B1047.2\nKSC\nEs'hail 2\n5,300 kg\nGTO\nEs'hailSat\nSuccess\nSuccess\n64\n3 December 2018\n18:34:05\nF9 B5B1046.3\nVAFB\nSSO-A\n~4,000 kg\nSSO\nSpaceflight Industries\nSuccess\nSuccess\n65\n5 December 2018\n18:16\nF9 B5\nCCAFS\nSpaceX CRS-16\n2,500 kg\nLEO\nNASA\nSuccess\n\nFailure\n66\n23 December 2018\n13:51\nF9 B5\nCCAFS\nGPS III\n4,400 kg\nMEO\nUSAF\nSuccess\nNo attempt\nrun  6\nsize:  None\n67\n11 January 2019\n15:31\nF9 B5B1049.2\nVAFB\nIridium NEXT\n9,600 kg\nPolar\nIridium Communications\nSuccess\n\nSuccess\n68\n22 February 2019\n01:45\nF9 B5B1048.3\nCCAFS\nNusantara Satu\n4,850 kg\nGTO\nPSN\nSuccess\n\nSuccess\n69\n2 March 2019\n07:49\nF9 B5[268]\nKSC\nCrew Dragon Demo-1\n12,055 kg\nLEO\nNASA\nSuccess\n\nSuccess\n70\n4 May 2019\n06:48\nF9 B5\nCCAFS\nSpaceX CRS-17\n2,495 kg\nLEO\nNASA\nSuccess\n\nSuccess\n71\n24 May 2019\n02:30\nF9 B5B1049.3\nCCAFS\nStarlink\n13,620 kg\nLEO\nSpaceX\nSuccess\n\nSuccess\n72\n12 June 2019\n14:17\nF9 B5B1051.2\nVAFB\nRADARSAT Constellation\n4,200 kg\nSSO\nCanadian Space Agency\nSuccess\n\nSuccess\n73\n25 July 2019\n22:01\nF9 B5B1056.2\nCCAFS\nSpaceX CRS-18\n2,268 kg\nLEO\nNASA\nSuccess\n\nSuccess\n74\n6 August 2019\n23:23\nF9 B5B1047.3\nCCAFS\nAMOS-17\n6,500 kg\nGTO\nSpacecom\nSuccess\n\nNo attempt\n75\n11 November 2019\n14:56\nF9 B5\nCCAFS\nStarlink\n15,600 kg\nLEO\nSpaceX\nSuccess\n\nSuccess\n76\n5 December 2019\n17:29\nF9 B5\nCCAFS\nSpaceX CRS-19\n2,617 kg\nLEO\nNASA\nSuccess\n\nSuccess\n77\n17 December 2019\n00:10\nF9 B5B1056.3\nCCAFS\nJCSat-18\n6,956 kg\nGTO\nSky Perfect JSAT\nSuccess\n\nSuccess\nrun  7\nsize:  None\n78\n7 January 2020\n02:19:21\nF9 B5\nCCAFS\nStarlink\n15,600 kg\nLEO\nSpaceX\nSuccess\n\nSuccess\n79\n19 January 2020\n15:30\nF9 B5\nKSC\nCrew Dragon in-flight abort test\n12,050 kg\nSub-orbital\nNASA\nSuccess\n\nNo attempt\n\n80\n29 January 2020\n14:07\nF9 B5\nCCAFS\nStarlink\n15,600 kg\nLEO\nSpaceX\nSuccess\n\nSuccess\n81\n17 February 2020\n15:05\nF9 B5\nCCAFS\nStarlink\n15,600 kg\nLEO\nSpaceX\nSuccess\n\nFailure\n82\n7 March 2020\n04:50\nF9 B5\nCCAFS\nSpaceX CRS-20\n1,977 kg\nLEO\nNASA\nSuccess\n\nSuccess\n83\n18 March 2020\n12:16\nF9 B5\nKSC\nStarlink\n15,600 kg\nLEO\nSpaceX\nSuccess\n\nFailure\n84\n22 April 2020\n19:30\nF9 B5\nKSC\nStarlink\n15,600 kg\nLEO\nSpaceX\nSuccess\n\nSuccess\n85\n30 May 2020\n19:22\nF9 B5\nKSC\nCrew Dragon Demo-2\n12,530 kg\nLEO\nNASA\nSuccess\n\nSuccess\n86\n4 June 2020\n01:25\nF9 B5\nCCAFS\nStarlink\n15,600 kg\nLEO\nSpaceX\nSuccess\n\nSuccess\n87\n13 June 2020\n09:21\nF9 B5\nCCAFS\nStarlink\n15,410 kg\nLEO\nSpaceX\nSuccess\n\nSuccess\n88\n30 June 2020\n20:10:46\nF9 B5\nCCAFS\nGPS III\n4,311 kg\nMEO\nU.S. Space Force\nSuccess\n\nSuccess\n89\n20 July 2020\n21:30\nF9 B5B1058.2\nCCAFS\nANASIS-II\n5,000\u20136,000 kg\nGTO\nRepublic of Korea Army\nSuccess\n\nSuccess\n90\n7 August 2020\n05:12\nF9 B5\nKSC\nStarlink\n14,932 kg\nLEO\nSpaceX\nSuccess\n\nSuccess\n91\n18 August 2020\n14:31\nF9 B5B1049.6\nCCAFS\nStarlink\n~15,440 kg\nLEO\nSpaceX\nSuccess\n\nSuccess\n92\n30 August 2020\n23:18\nF9 B5\nCCAFS\nSAOCOM 1B\n3,130 kg\nSSO\nCONAE\nSuccess\n\nSuccess\n93\n3 September 2020\n12:46:14\nF9 B5B1060.2\nKSC\nStarlink\n15,600 kg\nLEO\nSpaceX\nSuccess\n\nSuccess\n94\n6 October 2020\n11:29:34\nF9 B5B1058.3\nKSC\nStarlink\n15,600 kg\nLEO\nSpaceX\nSuccess\n\nSuccess\n95\n18 October 2020\n12:25:57\nF9 B5B1051.6\nKSC\nStarlink\n15,600 kg\nLEO\nSpaceX\nSuccess\n\nSuccess\n96\n24 October 2020\n15:31:34\nF9 B5\nCCAFS\nStarlink\n15,600 kg\nLEO\nSpaceX\nSuccess\n\nSuccess\n97\n5 November 2020\n23:24:23\nF9 B5\nCCAFS\nGPS III\n4,311 kg\nMEO\nUSSF\nSuccess\n\nSuccess\n98\n16 November 2020\n00:27\nF9 B5\nKSC\nCrew-1\n~12,500 kg\nLEO\nNASA\nSuccess\n\nSuccess\n99\n21 November 2020\n17:17:08\nF9 B5\nVAFB\nSentinel-6 Michael Freilich (Jason-CS A)\n1,192 kg\nLEO\nNASA\nSuccess\n\nSuccess\n100\n25 November 2020\n02:13\nF9 B5 \u267a\nCCAFS\nStarlink\n15,600 kg\nLEO\nSpaceX\nSuccess\n\nSuccess\n101\n6 December 2020\n16:17:08\nF9 B5 \u267a\nKSC\nSpaceX CRS-21\n2,972 kg\nLEO\nNASA\nSuccess\n\nSuccess\n102\n13 December 2020\n17:30:00\nF9 B5 \u267a\nCCSFS\nSXM-7\n7,000 kg\nGTO\nSirius XM\nSuccess\n\nSuccess\n103\n19 December 2020\n14:00:00\nF9 B5 \u267a\nKSC\nNROL-108\nC\nLEO\nNRO\nSuccess\n\nSuccess\nrun  8\nsize:  None\n104\n8 January 2021\n02:15\nF9 B5\nCCSFS\nT\u00fcrksat 5A\n3,500 kg\nGTO\nT\u00fcrksat\nSuccess\n\nSuccess\n105\n20 January 2021\n13:02\nF9 B5B1051.8\nKSC\nStarlink\n15,600 kg\nLEO\nSpaceX\nSuccess\n\nSuccess\n106\n24 January 2021\n15:00\nF9 B5B1058.5\nCCSFS\nTransporter-1\n~5,000 kg\nSSO\nVarious\nVarious\nSuccess\n\nSuccess\n107\n4 February 2021\n06:19\nF9 B5 \u267a\nCCSFS\nStarlink\n15,600 kg\nLEO\nSpaceX\nSuccess\n\nSuccess\n108\n16 February 2021\n03:59:37\nF9 B5 \u267a\nCCSFS\nStarlink\n15,600 kg\nLEO\nSpaceX\nSuccess\n\nFailure\n109\n4 March 2021\n08:24\nF9 B5 \u267a\nKSC\nStarlink\n15,600 kg\nLEO\nSpaceX\nSuccess\n\nSuccess\n110\n11 March 2021\n08:13:29\nF9 B5 \u267a\nCCSFS\nStarlink\n15,600 kg\nLEO\nSpaceX\nSuccess\n\nSuccess\n111\n14 March 2021\n10:01\nF9 B5 \u267a\nKSC\nStarlink\n15,600 kg\nLEO\nSpaceX\nSuccess\n\nSuccess\n112\n24 March 2021\n08:28\nF9 B5B1060.6\nCCSFS\nStarlink\n15,600 kg\nLEO\nSpaceX\nSuccess\n\nSuccess\n113\n7 April 2021\n16:34\nF9 B5 \u267a\nCCSFS\nStarlink\n15,600 kg\nLEO\nSpaceX\nSuccess\n\nSuccess\n114\n23 April 2021\n9:49\nF9 B5B1061.2\nKSC\nCrew-2\n~13,000 kg\nLEO\nNASA\nSuccess\n\nSuccess\n115\n29 April 2021\n03:44\nF9 B5B1060.7\nCCSFS\nStarlink\n15,600 kg\nLEO\nSpaceX\nSuccess\n\nSuccess\n116\n4 May 2021\n19:01\nF9 B5B1049.9\nKSC\nStarlink\n15,600 kg\nLEO\nSpaceX\nSuccess\n\nSuccess\n117\n9 May 2021\n06:42\nF9 B5B1051.10\nCCSFS\nStarlink\n15,600 kg\nLEO\nSpaceX\nSuccess\n\nSuccess\n118\n15 May 2021\n22:56\nF9 B5B1058.8\nKSC\nStarlink\n~14,000 kg\nLEO\nSpaceX\nSuccess\n\nSuccess\n119\n26 May 2021\n18:59\nF9 B5B1063.2\nCCSFS\nStarlink\n15,600 kg\nLEO\nSpaceX\nSuccess\n\nSuccess\n120\n3 June 2021\n17:29\nF9 B5B1067.1\nKSC\nSpaceX CRS-22\n3,328 kg\nLEO\nNASA\nSuccess\n\nSuccess\n121\n6 June 2021\n04:26\nF9 B5\nCCSFS\nSXM-8\n7,000 kg\nGTO\nSirius XM\nSuccess\n\nSuccess\n"
                }
            ],
            "source": "extracted_row = 0\n#Extract each table \nfor table_number,table in enumerate(soup.find_all('table',\"wikitable plainrowheaders collapsible\")):\n    print('run ' ,table_number)\n    print('size: ', np.size(table))\n   # get table row \n    for rows in table.find_all(\"tr\"):\n        #check to see if first table heading is as number corresponding to launch a number \n        if rows.th:\n            if rows.th.string:\n                flight_number=rows.th.string.strip()\n                flag=flight_number.isdigit()\n        else:\n            flag=False\n        #get table element \n        row=rows.find_all('td')\n        #print(row)\n        #if it is number save cells in a dictonary \n        if flag:\n            extracted_row += 1\n            # Flight Number value\n            # TODO: Append the flight_number into launch_dict with key `Flight No.`\n            print(flight_number)\n            datatimelist=date_time(row[0])\n            launch_dict['Flight No.'] = flight_number\n            \n            \n            # Date value\n            date = datatimelist[0].strip(',')\n            launch_dict['Date'] = date\n            print(date)\n            \n            # Time value\n            time = datatimelist[1]\n            launch_dict['Time'] = time\n            print(time)\n              \n            # Booster version\n            bv=booster_version(row[1])\n            if not(bv):\n                bv=row[1].a.string\n                launch_dict['Version Booster'] = bv\n            print(bv)\n            \n            # Launch Site\n            launch_site = row[2].a.string\n            launch_dict['Launch site'] = launch_site\n            print(launch_site)\n            \n            # Payload\n            payload = row[3].a.string\n            launch_dict['Payload'] = payload\n            print(payload)\n            \n            # Payload Mass\n            payload_mass = get_mass(row[4])\n            launch_dict['Payload mass'] = payload_mass\n            print(payload_mass)\n            \n            # Orbit\n            orbit = row[5].a.string\n            launch_dict['Orbit'] = orbit\n            print(orbit)\n            \n            # Customer\n            if((row[6].a) is None):\n                customer = 'Various'\n                print('Various')\n            else:\n                customer = row[6].a.string\n                #launch_dict['Customer'] = customer\n            launch_dict['Customer'] = customer\n            print(customer)\n            \n            \n            # Launch outcome\n            launch_outcome = list(row[7].strings)[0]\n            launch_dict['Launch outcome'] = launch_outcome\n            print(launch_outcome)\n            \n            # Booster landing\n            booster_landing = landing_status(row[8])\n            launch_dict['Booster landing'] = booster_landing\n            \n            print(booster_landing)\n            df3 = df3.append(launch_dict, ignore_index=True)\n            "
        },
        {
            "cell_type": "markdown",
            "metadata": {},
            "source": "parsing launch record values into `launch_dict` to create a dataframe from it.\n"
        },
        {
            "cell_type": "code",
            "execution_count": 36,
            "metadata": {},
            "outputs": [
                {
                    "data": {
                        "text/html": "<div>\n<style scoped>\n    .dataframe tbody tr th:only-of-type {\n        vertical-align: middle;\n    }\n\n    .dataframe tbody tr th {\n        vertical-align: top;\n    }\n\n    .dataframe thead th {\n        text-align: right;\n    }\n</style>\n<table border=\"1\" class=\"dataframe\">\n  <thead>\n    <tr style=\"text-align: right;\">\n      <th></th>\n      <th>Flight No.</th>\n      <th>Launch site</th>\n      <th>Payload</th>\n      <th>Payload mass</th>\n      <th>Orbit</th>\n      <th>Customer</th>\n      <th>Launch outcome</th>\n      <th>Version Booster</th>\n      <th>Booster landing</th>\n      <th>Date</th>\n      <th>Time</th>\n    </tr>\n  </thead>\n  <tbody>\n    <tr>\n      <th>0</th>\n      <td>1</td>\n      <td>CCAFS</td>\n      <td>Dragon Spacecraft Qualification Unit</td>\n      <td>0.0</td>\n      <td>LEO</td>\n      <td>SpaceX</td>\n      <td>Success\\n</td>\n      <td>[]</td>\n      <td>Failure</td>\n      <td>4 June 2010</td>\n      <td>18:45</td>\n    </tr>\n    <tr>\n      <th>1</th>\n      <td>2</td>\n      <td>CCAFS</td>\n      <td>Dragon</td>\n      <td>0.0</td>\n      <td>LEO</td>\n      <td>NASA</td>\n      <td>Success</td>\n      <td>[]</td>\n      <td>Failure</td>\n      <td>8 December 2010</td>\n      <td>15:43</td>\n    </tr>\n    <tr>\n      <th>2</th>\n      <td>3</td>\n      <td>CCAFS</td>\n      <td>Dragon</td>\n      <td>525 kg</td>\n      <td>LEO</td>\n      <td>NASA</td>\n      <td>Success</td>\n      <td>[]</td>\n      <td>No attempt\\n</td>\n      <td>22 May 2012</td>\n      <td>07:44</td>\n    </tr>\n    <tr>\n      <th>3</th>\n      <td>4</td>\n      <td>CCAFS</td>\n      <td>SpaceX CRS-1</td>\n      <td>4,700 kg</td>\n      <td>LEO</td>\n      <td>NASA</td>\n      <td>Success\\n</td>\n      <td>[]</td>\n      <td>No attempt</td>\n      <td>8 October 2012</td>\n      <td>00:35</td>\n    </tr>\n    <tr>\n      <th>4</th>\n      <td>5</td>\n      <td>CCAFS</td>\n      <td>SpaceX CRS-2</td>\n      <td>4,877 kg</td>\n      <td>LEO</td>\n      <td>NASA</td>\n      <td>Success\\n</td>\n      <td>[]</td>\n      <td>No attempt\\n</td>\n      <td>1 March 2013</td>\n      <td>15:10</td>\n    </tr>\n    <tr>\n      <th>...</th>\n      <td>...</td>\n      <td>...</td>\n      <td>...</td>\n      <td>...</td>\n      <td>...</td>\n      <td>...</td>\n      <td>...</td>\n      <td>...</td>\n      <td>...</td>\n      <td>...</td>\n      <td>...</td>\n    </tr>\n    <tr>\n      <th>116</th>\n      <td>117</td>\n      <td>CCSFS</td>\n      <td>Starlink</td>\n      <td>15,600 kg</td>\n      <td>LEO</td>\n      <td>SpaceX</td>\n      <td>Success\\n</td>\n      <td>F9 v1.1</td>\n      <td>Success</td>\n      <td>9 May 2021</td>\n      <td>06:42</td>\n    </tr>\n    <tr>\n      <th>117</th>\n      <td>118</td>\n      <td>KSC</td>\n      <td>Starlink</td>\n      <td>~14,000 kg</td>\n      <td>LEO</td>\n      <td>SpaceX</td>\n      <td>Success\\n</td>\n      <td>F9 v1.1</td>\n      <td>Success</td>\n      <td>15 May 2021</td>\n      <td>22:56</td>\n    </tr>\n    <tr>\n      <th>118</th>\n      <td>119</td>\n      <td>CCSFS</td>\n      <td>Starlink</td>\n      <td>15,600 kg</td>\n      <td>LEO</td>\n      <td>SpaceX</td>\n      <td>Success\\n</td>\n      <td>F9 v1.1</td>\n      <td>Success</td>\n      <td>26 May 2021</td>\n      <td>18:59</td>\n    </tr>\n    <tr>\n      <th>119</th>\n      <td>120</td>\n      <td>KSC</td>\n      <td>SpaceX CRS-22</td>\n      <td>3,328 kg</td>\n      <td>LEO</td>\n      <td>NASA</td>\n      <td>Success\\n</td>\n      <td>F9 v1.1</td>\n      <td>Success</td>\n      <td>3 June 2021</td>\n      <td>17:29</td>\n    </tr>\n    <tr>\n      <th>120</th>\n      <td>121</td>\n      <td>CCSFS</td>\n      <td>SXM-8</td>\n      <td>7,000 kg</td>\n      <td>GTO</td>\n      <td>Sirius XM</td>\n      <td>Success\\n</td>\n      <td>F9 v1.1</td>\n      <td>Success</td>\n      <td>6 June 2021</td>\n      <td>04:26</td>\n    </tr>\n  </tbody>\n</table>\n<p>121 rows \u00d7 11 columns</p>\n</div>",
                        "text/plain": "    Flight No. Launch site                               Payload Payload mass  \\\n0            1       CCAFS  Dragon Spacecraft Qualification Unit          0.0   \n1            2       CCAFS                                Dragon          0.0   \n2            3       CCAFS                                Dragon       525 kg   \n3            4       CCAFS                          SpaceX CRS-1     4,700 kg   \n4            5       CCAFS                          SpaceX CRS-2     4,877 kg   \n..         ...         ...                                   ...          ...   \n116        117       CCSFS                              Starlink    15,600 kg   \n117        118         KSC                              Starlink   ~14,000 kg   \n118        119       CCSFS                              Starlink    15,600 kg   \n119        120         KSC                         SpaceX CRS-22     3,328 kg   \n120        121       CCSFS                                 SXM-8     7,000 kg   \n\n    Orbit   Customer Launch outcome Version Booster Booster landing  \\\n0     LEO     SpaceX      Success\\n              []         Failure   \n1     LEO       NASA        Success              []         Failure   \n2     LEO       NASA        Success              []    No attempt\\n   \n3     LEO       NASA      Success\\n              []      No attempt   \n4     LEO       NASA      Success\\n              []    No attempt\\n   \n..    ...        ...            ...             ...             ...   \n116   LEO     SpaceX      Success\\n         F9 v1.1         Success   \n117   LEO     SpaceX      Success\\n         F9 v1.1         Success   \n118   LEO     SpaceX      Success\\n         F9 v1.1         Success   \n119   LEO       NASA      Success\\n         F9 v1.1         Success   \n120   GTO  Sirius XM      Success\\n         F9 v1.1         Success   \n\n                Date   Time  \n0        4 June 2010  18:45  \n1    8 December 2010  15:43  \n2        22 May 2012  07:44  \n3     8 October 2012  00:35  \n4       1 March 2013  15:10  \n..               ...    ...  \n116       9 May 2021  06:42  \n117      15 May 2021  22:56  \n118      26 May 2021  18:59  \n119      3 June 2021  17:29  \n120      6 June 2021  04:26  \n\n[121 rows x 11 columns]"
                    },
                    "execution_count": 36,
                    "metadata": {},
                    "output_type": "execute_result"
                }
            ],
            "source": "df3"
        },
        {
            "cell_type": "markdown",
            "metadata": {},
            "source": "We can now export it to a <b>CSV</b> for the next section, but to make the answers consistent and in case you have difficulties finishing this lab.\n\nFollowing labs will be using a provided dataset to make each lab independent.\n"
        },
        {
            "cell_type": "markdown",
            "metadata": {},
            "source": "<code>df.to_csv('spacex_web_scraped.csv', index=False)</code>\n"
        },
        {
            "cell_type": "code",
            "execution_count": 23,
            "metadata": {},
            "outputs": [],
            "source": "df3.to_csv('spacex_web_scraped.csv', index=False)"
        }
    ],
    "metadata": {
        "kernelspec": {
            "display_name": "Python 3.9",
            "language": "python",
            "name": "python3"
        },
        "language_info": {
            "codemirror_mode": {
                "name": "ipython",
                "version": 3
            },
            "file_extension": ".py",
            "mimetype": "text/x-python",
            "name": "python",
            "nbconvert_exporter": "python",
            "pygments_lexer": "ipython3",
            "version": "3.9.7"
        }
    },
    "nbformat": 4,
    "nbformat_minor": 4
}